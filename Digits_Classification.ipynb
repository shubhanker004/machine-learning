{
  "nbformat": 4,
  "nbformat_minor": 0,
  "metadata": {
    "colab": {
      "name": "Digits_Classification.ipynb",
      "provenance": []
    },
    "kernelspec": {
      "name": "python3",
      "display_name": "Python 3"
    }
  },
  "cells": [
    {
      "cell_type": "markdown",
      "metadata": {
        "id": "-ug9SByKhJ38",
        "colab_type": "text"
      },
      "source": [
        "# Digits Classifier\n",
        "Digits classifier that trains to almost 99% accuracy or above on MNIST Digits dataset."
      ]
    },
    {
      "cell_type": "code",
      "metadata": {
        "id": "JpHc16zhW2MM",
        "colab_type": "code",
        "colab": {
          "base_uri": "https://localhost:8080/",
          "height": 63
        },
        "outputId": "e9f3e982-037b-42d0-b796-9378e11e07a1"
      },
      "source": [
        "import tensorflow as tf\n",
        "import numpy as np\n",
        "from tensorflow import keras"
      ],
      "execution_count": 1,
      "outputs": [
        {
          "output_type": "display_data",
          "data": {
            "text/html": [
              "<p style=\"color: red;\">\n",
              "The default version of TensorFlow in Colab will soon switch to TensorFlow 2.x.<br>\n",
              "We recommend you <a href=\"https://www.tensorflow.org/guide/migrate\" target=\"_blank\">upgrade</a> now \n",
              "or ensure your notebook will continue to use TensorFlow 1.x via the <code>%tensorflow_version 1.x</code> magic:\n",
              "<a href=\"https://colab.research.google.com/notebooks/tensorflow_version.ipynb\" target=\"_blank\">more info</a>.</p>\n"
            ],
            "text/plain": [
              "<IPython.core.display.HTML object>"
            ]
          },
          "metadata": {
            "tags": []
          }
        }
      ]
    },
    {
      "cell_type": "markdown",
      "metadata": {
        "id": "ARBy1Ygnh1WP",
        "colab_type": "text"
      },
      "source": [
        "# Model"
      ]
    },
    {
      "cell_type": "code",
      "metadata": {
        "id": "tDDcSF7SZEgE",
        "colab_type": "code",
        "colab": {
          "base_uri": "https://localhost:8080/",
          "height": 122
        },
        "outputId": "3603a51a-d10e-4d65-f66c-61db6ee7db2a"
      },
      "source": [
        "mnist = tf.keras.datasets.mnist\n",
        "(training_images, training_labels), (test_images, test_labels) = mnist.load_data()\n",
        "    \n",
        "training_images=training_images.reshape(60000, 28, 28, 1)\n",
        "training_images=training_images / 255.0\n",
        "test_images = test_images.reshape(10000, 28, 28, 1)\n",
        "test_images=test_images/255.0\n",
        "\n",
        "model = tf.keras.models.Sequential([\n",
        "    tf.keras.layers.Conv2D(64,(3,3), activation = 'relu', input_shape = (28,28,1)),\n",
        "    tf.keras.layers.MaxPooling2D(2,2),\n",
        "    tf.keras.layers.Flatten(),\n",
        "    tf.keras.layers.Dense(128, activation = 'relu'),\n",
        "    tf.keras.layers.Dense(10, activation = 'softmax')\n",
        "])\n",
        "\n",
        "model.compile(optimizer='adam', loss='sparse_categorical_crossentropy', metrics=['accuracy'])\n",
        "\n"
      ],
      "execution_count": 4,
      "outputs": [
        {
          "output_type": "stream",
          "text": [
            "Downloading data from https://storage.googleapis.com/tensorflow/tf-keras-datasets/mnist.npz\n",
            "11493376/11490434 [==============================] - 0s 0us/step\n",
            "WARNING:tensorflow:From /usr/local/lib/python3.6/dist-packages/tensorflow_core/python/ops/resource_variable_ops.py:1630: calling BaseResourceVariable.__init__ (from tensorflow.python.ops.resource_variable_ops) with constraint is deprecated and will be removed in a future version.\n",
            "Instructions for updating:\n",
            "If using Keras pass *_constraint arguments to layers.\n"
          ],
          "name": "stdout"
        }
      ]
    },
    {
      "cell_type": "markdown",
      "metadata": {
        "id": "5F2wkwT_h6V5",
        "colab_type": "text"
      },
      "source": [
        "# Training"
      ]
    },
    {
      "cell_type": "code",
      "metadata": {
        "id": "hEopCgwvcB_9",
        "colab_type": "code",
        "colab": {
          "base_uri": "https://localhost:8080/",
          "height": 731
        },
        "outputId": "14aac510-7c44-4041-afa0-582414e8682f"
      },
      "source": [
        "model.fit(training_images, training_labels, epochs = 20)"
      ],
      "execution_count": 5,
      "outputs": [
        {
          "output_type": "stream",
          "text": [
            "Train on 60000 samples\n",
            "Epoch 1/20\n",
            "60000/60000 [==============================] - 54s 907us/sample - loss: 0.1393 - acc: 0.9573\n",
            "Epoch 2/20\n",
            "60000/60000 [==============================] - 54s 896us/sample - loss: 0.0484 - acc: 0.9851\n",
            "Epoch 3/20\n",
            "60000/60000 [==============================] - 54s 893us/sample - loss: 0.0293 - acc: 0.9909\n",
            "Epoch 4/20\n",
            "60000/60000 [==============================] - 54s 893us/sample - loss: 0.0200 - acc: 0.9936\n",
            "Epoch 5/20\n",
            "60000/60000 [==============================] - 53s 886us/sample - loss: 0.0121 - acc: 0.9959\n",
            "Epoch 6/20\n",
            "60000/60000 [==============================] - 53s 889us/sample - loss: 0.0105 - acc: 0.9964\n",
            "Epoch 7/20\n",
            "60000/60000 [==============================] - 54s 895us/sample - loss: 0.0065 - acc: 0.9979\n",
            "Epoch 8/20\n",
            "60000/60000 [==============================] - 53s 887us/sample - loss: 0.0063 - acc: 0.9978\n",
            "Epoch 9/20\n",
            "60000/60000 [==============================] - 54s 902us/sample - loss: 0.0046 - acc: 0.9986\n",
            "Epoch 10/20\n",
            "60000/60000 [==============================] - 53s 889us/sample - loss: 0.0037 - acc: 0.9989\n",
            "Epoch 11/20\n",
            "60000/60000 [==============================] - 54s 895us/sample - loss: 0.0052 - acc: 0.9983\n",
            "Epoch 12/20\n",
            "60000/60000 [==============================] - 54s 899us/sample - loss: 0.0033 - acc: 0.9990\n",
            "Epoch 13/20\n",
            "60000/60000 [==============================] - 54s 896us/sample - loss: 0.0030 - acc: 0.9990\n",
            "Epoch 14/20\n",
            "60000/60000 [==============================] - 54s 897us/sample - loss: 0.0031 - acc: 0.9990\n",
            "Epoch 15/20\n",
            "60000/60000 [==============================] - 54s 899us/sample - loss: 0.0034 - acc: 0.9990\n",
            "Epoch 16/20\n",
            "60000/60000 [==============================] - 54s 901us/sample - loss: 0.0017 - acc: 0.9995\n",
            "Epoch 17/20\n",
            "60000/60000 [==============================] - 53s 891us/sample - loss: 0.0029 - acc: 0.9992\n",
            "Epoch 18/20\n",
            "60000/60000 [==============================] - 53s 887us/sample - loss: 0.0025 - acc: 0.9991\n",
            "Epoch 19/20\n",
            "60000/60000 [==============================] - 54s 896us/sample - loss: 0.0028 - acc: 0.9992\n",
            "Epoch 20/20\n",
            "60000/60000 [==============================] - 54s 894us/sample - loss: 9.1463e-04 - acc: 0.9998\n"
          ],
          "name": "stdout"
        },
        {
          "output_type": "execute_result",
          "data": {
            "text/plain": [
              "<tensorflow.python.keras.callbacks.History at 0x7f66ba073f28>"
            ]
          },
          "metadata": {
            "tags": []
          },
          "execution_count": 5
        }
      ]
    },
    {
      "cell_type": "markdown",
      "metadata": {
        "id": "eeSmTvo3h_NR",
        "colab_type": "text"
      },
      "source": [
        "# Testing"
      ]
    },
    {
      "cell_type": "code",
      "metadata": {
        "id": "ZzPHaFDjcG3K",
        "colab_type": "code",
        "colab": {
          "base_uri": "https://localhost:8080/",
          "height": 51
        },
        "outputId": "94d7b202-5158-4fbd-8bc9-64ecdc780f85"
      },
      "source": [
        "model.evaluate(test_images, test_labels)"
      ],
      "execution_count": 6,
      "outputs": [
        {
          "output_type": "stream",
          "text": [
            "10000/10000 [==============================] - 2s 231us/sample - loss: 0.0759 - acc: 0.9858\n"
          ],
          "name": "stdout"
        },
        {
          "output_type": "execute_result",
          "data": {
            "text/plain": [
              "[0.07594337798375403, 0.9858]"
            ]
          },
          "metadata": {
            "tags": []
          },
          "execution_count": 6
        }
      ]
    }
  ]
}