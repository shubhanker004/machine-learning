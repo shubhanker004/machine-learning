{
  "nbformat": 4,
  "nbformat_minor": 0,
  "metadata": {
    "colab": {
      "name": "Horses_Human.ipynb",
      "provenance": []
    },
    "kernelspec": {
      "name": "python3",
      "display_name": "Python 3"
    },
    "accelerator": "GPU"
  },
  "cells": [
    {
      "cell_type": "markdown",
      "metadata": {
        "id": "MA1U2RLsB7tp",
        "colab_type": "text"
      },
      "source": [
        "# Horses and human classifier\n",
        "\n",
        "A CNN model to classify horses and human using cmputer generated dataset of horses and humans (by Laurence Moroney).\n"
      ]
    },
    {
      "cell_type": "markdown",
      "metadata": {
        "id": "kuJpPluT-Jdq",
        "colab_type": "text"
      },
      "source": [
        "# Downloading the data"
      ]
    },
    {
      "cell_type": "code",
      "metadata": {
        "id": "KTAelKwp8jXm",
        "colab_type": "code",
        "colab": {
          "base_uri": "https://localhost:8080/",
          "height": 204
        },
        "outputId": "8ac5c161-a623-4fef-e116-5a17ec4ce795"
      },
      "source": [
        "!wget --no-check-certificate \\\n",
        "    https://storage.googleapis.com/laurencemoroney-blog.appspot.com/horse-or-human.zip \\\n",
        "    -O /tmp/horse-or-human.zip\n",
        "    "
      ],
      "execution_count": 1,
      "outputs": [
        {
          "output_type": "stream",
          "text": [
            "--2019-11-10 20:32:39--  https://storage.googleapis.com/laurencemoroney-blog.appspot.com/horse-or-human.zip\n",
            "Resolving storage.googleapis.com (storage.googleapis.com)... 74.125.140.128, 2a00:1450:400c:c06::80\n",
            "Connecting to storage.googleapis.com (storage.googleapis.com)|74.125.140.128|:443... connected.\n",
            "HTTP request sent, awaiting response... 200 OK\n",
            "Length: 149574867 (143M) [application/zip]\n",
            "Saving to: ‘/tmp/horse-or-human.zip’\n",
            "\n",
            "/tmp/horse-or-human 100%[===================>] 142.65M   125MB/s    in 1.1s    \n",
            "\n",
            "2019-11-10 20:32:41 (125 MB/s) - ‘/tmp/horse-or-human.zip’ saved [149574867/149574867]\n",
            "\n"
          ],
          "name": "stdout"
        }
      ]
    },
    {
      "cell_type": "code",
      "metadata": {
        "id": "kkAH6q8s8njI",
        "colab_type": "code",
        "colab": {
          "base_uri": "https://localhost:8080/",
          "height": 204
        },
        "outputId": "bdfe7aac-787e-43a0-b3a5-f7aff89c4fbc"
      },
      "source": [
        "!wget --no-check-certificate \\\n",
        "    https://storage.googleapis.com/laurencemoroney-blog.appspot.com/validation-horse-or-human.zip \\\n",
        "    -O /tmp/validation-horse-or-human.zip"
      ],
      "execution_count": 2,
      "outputs": [
        {
          "output_type": "stream",
          "text": [
            "--2019-11-10 20:32:44--  https://storage.googleapis.com/laurencemoroney-blog.appspot.com/validation-horse-or-human.zip\n",
            "Resolving storage.googleapis.com (storage.googleapis.com)... 74.125.140.128, 2a00:1450:400c:c06::80\n",
            "Connecting to storage.googleapis.com (storage.googleapis.com)|74.125.140.128|:443... connected.\n",
            "HTTP request sent, awaiting response... 200 OK\n",
            "Length: 11480187 (11M) [application/zip]\n",
            "Saving to: ‘/tmp/validation-horse-or-human.zip’\n",
            "\n",
            "\r          /tmp/vali   0%[                    ]       0  --.-KB/s               \r         /tmp/valid  73%[=============>      ]   8.01M  37.9MB/s               \r/tmp/validation-hor 100%[===================>]  10.95M  49.2MB/s    in 0.2s    \n",
            "\n",
            "2019-11-10 20:32:44 (49.2 MB/s) - ‘/tmp/validation-horse-or-human.zip’ saved [11480187/11480187]\n",
            "\n"
          ],
          "name": "stdout"
        }
      ]
    },
    {
      "cell_type": "markdown",
      "metadata": {
        "id": "2DcjD9kR-Wy6",
        "colab_type": "text"
      },
      "source": [
        "# Importing Operating System Libraries"
      ]
    },
    {
      "cell_type": "code",
      "metadata": {
        "id": "Zq_3GDD68rDX",
        "colab_type": "code",
        "colab": {}
      },
      "source": [
        "import os\n",
        "import zipfile\n",
        "\n",
        "local_zip = '/tmp/horse-or-human.zip'\n",
        "zip_ref = zipfile.ZipFile(local_zip, 'r')\n",
        "zip_ref.extractall('/tmp/horse-or-human')\n",
        "local_zip = '/tmp/validation-horse-or-human.zip'\n",
        "zip_ref = zipfile.ZipFile(local_zip, 'r')\n",
        "zip_ref.extractall('/tmp/validation-horse-or-human')\n",
        "zip_ref.close()"
      ],
      "execution_count": 0,
      "outputs": []
    },
    {
      "cell_type": "markdown",
      "metadata": {
        "id": "T_ROvCbq-ldG",
        "colab_type": "text"
      },
      "source": [
        "# Defining Directories"
      ]
    },
    {
      "cell_type": "code",
      "metadata": {
        "id": "x6KH40b18t0N",
        "colab_type": "code",
        "colab": {}
      },
      "source": [
        "# Directory with our training horse pictures\n",
        "train_horse_dir = os.path.join('/tmp/horse-or-human/horses')\n",
        "\n",
        "# Directory with our training human pictures\n",
        "train_human_dir = os.path.join('/tmp/horse-or-human/humans')\n",
        "\n",
        "# Directory with our training horse pictures\n",
        "validation_horse_dir = os.path.join('/tmp/validation-horse-or-human/horses')\n",
        "\n",
        "# Directory with our training human pictures\n",
        "validation_human_dir = os.path.join('/tmp/validation-horse-or-human/humans')"
      ],
      "execution_count": 0,
      "outputs": []
    },
    {
      "cell_type": "markdown",
      "metadata": {
        "id": "9xnODRYA-vRU",
        "colab_type": "text"
      },
      "source": [
        "# Importing libraries as required"
      ]
    },
    {
      "cell_type": "code",
      "metadata": {
        "id": "Zqkq0UMj8x5f",
        "colab_type": "code",
        "colab": {
          "base_uri": "https://localhost:8080/",
          "height": 63
        },
        "outputId": "d025c10e-23a9-4af9-b088-db6f0259ce06"
      },
      "source": [
        "import tensorflow as tf\n",
        "from tensorflow import keras\n",
        "from tensorflow.keras.preprocessing.image import ImageDataGenerator\n",
        "from tensorflow.keras.optimizers import RMSprop"
      ],
      "execution_count": 5,
      "outputs": [
        {
          "output_type": "display_data",
          "data": {
            "text/html": [
              "<p style=\"color: red;\">\n",
              "The default version of TensorFlow in Colab will soon switch to TensorFlow 2.x.<br>\n",
              "We recommend you <a href=\"https://www.tensorflow.org/guide/migrate\" target=\"_blank\">upgrade</a> now \n",
              "or ensure your notebook will continue to use TensorFlow 1.x via the <code>%tensorflow_version 1.x</code> magic:\n",
              "<a href=\"https://colab.research.google.com/notebooks/tensorflow_version.ipynb\" target=\"_blank\">more info</a>.</p>\n"
            ],
            "text/plain": [
              "<IPython.core.display.HTML object>"
            ]
          },
          "metadata": {
            "tags": []
          }
        }
      ]
    },
    {
      "cell_type": "markdown",
      "metadata": {
        "id": "gy83jYi--9vk",
        "colab_type": "text"
      },
      "source": [
        "# Defining Model"
      ]
    },
    {
      "cell_type": "code",
      "metadata": {
        "id": "6wCMBdZG9I0j",
        "colab_type": "code",
        "colab": {
          "base_uri": "https://localhost:8080/",
          "height": 139
        },
        "outputId": "80daf13f-86b4-410b-9877-1cf08a91b60e"
      },
      "source": [
        "model = tf.keras.models.Sequential([\n",
        "    tf.keras.layers.Conv2D(16, (3,3), activation='relu', input_shape=(300, 300, 3)),\n",
        "    tf.keras.layers.MaxPooling2D(2, 2),\n",
        "    tf.keras.layers.Conv2D(32, (3,3), activation='relu'),\n",
        "    tf.keras.layers.MaxPooling2D(2,2),\n",
        "    tf.keras.layers.Conv2D(64, (3,3), activation='relu'),\n",
        "    tf.keras.layers.MaxPooling2D(2,2),\n",
        "    tf.keras.layers.Conv2D(64, (3,3), activation='relu'),\n",
        "    tf.keras.layers.MaxPooling2D(2,2),\n",
        "    tf.keras.layers.Conv2D(64, (3,3), activation='relu'),\n",
        "    tf.keras.layers.MaxPooling2D(2,2),\n",
        "    tf.keras.layers.Flatten(),\n",
        "    tf.keras.layers.Dense(512, activation='relu'),\n",
        "    tf.keras.layers.Dense(1, activation='sigmoid')\n",
        "])\n",
        "model.compile(loss='binary_crossentropy',\n",
        "              optimizer=RMSprop(lr=0.001),\n",
        "              metrics=['acc'])"
      ],
      "execution_count": 6,
      "outputs": [
        {
          "output_type": "stream",
          "text": [
            "WARNING:tensorflow:From /usr/local/lib/python3.6/dist-packages/tensorflow_core/python/ops/resource_variable_ops.py:1630: calling BaseResourceVariable.__init__ (from tensorflow.python.ops.resource_variable_ops) with constraint is deprecated and will be removed in a future version.\n",
            "Instructions for updating:\n",
            "If using Keras pass *_constraint arguments to layers.\n",
            "WARNING:tensorflow:From /usr/local/lib/python3.6/dist-packages/tensorflow_core/python/ops/nn_impl.py:183: where (from tensorflow.python.ops.array_ops) is deprecated and will be removed in a future version.\n",
            "Instructions for updating:\n",
            "Use tf.where in 2.0, which has the same broadcast rule as np.where\n"
          ],
          "name": "stdout"
        }
      ]
    },
    {
      "cell_type": "markdown",
      "metadata": {
        "id": "4OVuDhQC_DJe",
        "colab_type": "text"
      },
      "source": [
        "# Model Summary"
      ]
    },
    {
      "cell_type": "code",
      "metadata": {
        "id": "osgoRb-p9Xh7",
        "colab_type": "code",
        "colab": {
          "base_uri": "https://localhost:8080/",
          "height": 595
        },
        "outputId": "231ce2af-f584-4e59-c0b0-36c3b012d345"
      },
      "source": [
        "model.summary()"
      ],
      "execution_count": 7,
      "outputs": [
        {
          "output_type": "stream",
          "text": [
            "Model: \"sequential\"\n",
            "_________________________________________________________________\n",
            "Layer (type)                 Output Shape              Param #   \n",
            "=================================================================\n",
            "conv2d (Conv2D)              (None, 298, 298, 16)      448       \n",
            "_________________________________________________________________\n",
            "max_pooling2d (MaxPooling2D) (None, 149, 149, 16)      0         \n",
            "_________________________________________________________________\n",
            "conv2d_1 (Conv2D)            (None, 147, 147, 32)      4640      \n",
            "_________________________________________________________________\n",
            "max_pooling2d_1 (MaxPooling2 (None, 73, 73, 32)        0         \n",
            "_________________________________________________________________\n",
            "conv2d_2 (Conv2D)            (None, 71, 71, 64)        18496     \n",
            "_________________________________________________________________\n",
            "max_pooling2d_2 (MaxPooling2 (None, 35, 35, 64)        0         \n",
            "_________________________________________________________________\n",
            "conv2d_3 (Conv2D)            (None, 33, 33, 64)        36928     \n",
            "_________________________________________________________________\n",
            "max_pooling2d_3 (MaxPooling2 (None, 16, 16, 64)        0         \n",
            "_________________________________________________________________\n",
            "conv2d_4 (Conv2D)            (None, 14, 14, 64)        36928     \n",
            "_________________________________________________________________\n",
            "max_pooling2d_4 (MaxPooling2 (None, 7, 7, 64)          0         \n",
            "_________________________________________________________________\n",
            "flatten (Flatten)            (None, 3136)              0         \n",
            "_________________________________________________________________\n",
            "dense (Dense)                (None, 512)               1606144   \n",
            "_________________________________________________________________\n",
            "dense_1 (Dense)              (None, 1)                 513       \n",
            "=================================================================\n",
            "Total params: 1,704,097\n",
            "Trainable params: 1,704,097\n",
            "Non-trainable params: 0\n",
            "_________________________________________________________________\n"
          ],
          "name": "stdout"
        }
      ]
    },
    {
      "cell_type": "markdown",
      "metadata": {
        "id": "Ig1pI_fA_IAm",
        "colab_type": "text"
      },
      "source": [
        "# Preprocessing the images"
      ]
    },
    {
      "cell_type": "code",
      "metadata": {
        "id": "wG21kP349jCm",
        "colab_type": "code",
        "colab": {
          "base_uri": "https://localhost:8080/",
          "height": 51
        },
        "outputId": "7dda9cfd-2fec-46cf-aa32-e534267bc00a"
      },
      "source": [
        "train_datagen = ImageDataGenerator(rescale=1/255)\n",
        "validation_datagen = ImageDataGenerator(rescale=1/255)\n",
        "\n",
        "train_generator = train_datagen.flow_from_directory(\n",
        "        '/tmp/horse-or-human/',  \n",
        "        target_size=(300, 300),  \n",
        "        batch_size=128,\n",
        "        class_mode='binary')\n",
        "\n",
        "validation_generator = validation_datagen.flow_from_directory(\n",
        "        '/tmp/validation-horse-or-human/',  \n",
        "        target_size=(300, 300),  \n",
        "        batch_size=32,\n",
        "        class_mode='binary')"
      ],
      "execution_count": 8,
      "outputs": [
        {
          "output_type": "stream",
          "text": [
            "Found 1027 images belonging to 2 classes.\n",
            "Found 256 images belonging to 2 classes.\n"
          ],
          "name": "stdout"
        }
      ]
    },
    {
      "cell_type": "markdown",
      "metadata": {
        "id": "KYqqFHs7_1Eq",
        "colab_type": "text"
      },
      "source": [
        "# Training"
      ]
    },
    {
      "cell_type": "code",
      "metadata": {
        "id": "q-7-t8s0996f",
        "colab_type": "code",
        "colab": {
          "base_uri": "https://localhost:8080/",
          "height": 1000
        },
        "outputId": "bdb00967-2982-4b54-9906-05866554d06c"
      },
      "source": [
        "model.fit_generator(\n",
        "      train_generator,\n",
        "      steps_per_epoch=8,  \n",
        "      epochs=15,\n",
        "      verbose=1,\n",
        "      validation_data = validation_generator,\n",
        "      validation_steps=8)"
      ],
      "execution_count": 9,
      "outputs": [
        {
          "output_type": "stream",
          "text": [
            "Epoch 1/15\n",
            "7/8 [=========================>....] - ETA: 1s - loss: 0.7275 - acc: 0.5564Epoch 1/15\n",
            "8/8 [==============================] - 1s 149ms/step - loss: 0.6823 - acc: 0.5000\n",
            "8/8 [==============================] - 11s 1s/step - loss: 0.7240 - acc: 0.5384 - val_loss: 0.6823 - val_acc: 0.5000\n",
            "Epoch 2/15\n",
            "7/8 [=========================>....] - ETA: 0s - loss: 0.8581 - acc: 0.6148Epoch 1/15\n",
            "8/8 [==============================] - 2s 194ms/step - loss: 0.6750 - acc: 0.5000\n",
            "8/8 [==============================] - 8s 957ms/step - loss: 0.8193 - acc: 0.6051 - val_loss: 0.6750 - val_acc: 0.5000\n",
            "Epoch 3/15\n",
            "7/8 [=========================>....] - ETA: 0s - loss: 0.6354 - acc: 0.6498Epoch 1/15\n",
            "8/8 [==============================] - 1s 187ms/step - loss: 1.2719 - acc: 0.5000\n",
            "8/8 [==============================] - 7s 884ms/step - loss: 0.6748 - acc: 0.6240 - val_loss: 1.2719 - val_acc: 0.5000\n",
            "Epoch 4/15\n",
            "7/8 [=========================>....] - ETA: 0s - loss: 0.4670 - acc: 0.7522Epoch 1/15\n",
            "8/8 [==============================] - 1s 187ms/step - loss: 0.5933 - acc: 0.7227\n",
            "8/8 [==============================] - 8s 1s/step - loss: 0.6870 - acc: 0.7256 - val_loss: 0.5933 - val_acc: 0.7227\n",
            "Epoch 5/15\n",
            "7/8 [=========================>....] - ETA: 0s - loss: 0.3267 - acc: 0.8638Epoch 1/15\n",
            "8/8 [==============================] - 2s 190ms/step - loss: 0.6118 - acc: 0.8594\n",
            "8/8 [==============================] - 7s 914ms/step - loss: 0.3254 - acc: 0.8610 - val_loss: 0.6118 - val_acc: 0.8594\n",
            "Epoch 6/15\n",
            "7/8 [=========================>....] - ETA: 0s - loss: 0.1528 - acc: 0.9313Epoch 1/15\n",
            "8/8 [==============================] - 2s 190ms/step - loss: 1.3248 - acc: 0.8047\n",
            "8/8 [==============================] - 7s 912ms/step - loss: 0.1498 - acc: 0.9366 - val_loss: 1.3248 - val_acc: 0.8047\n",
            "Epoch 7/15\n",
            "7/8 [=========================>....] - ETA: 0s - loss: 0.7946 - acc: 0.8223Epoch 1/15\n",
            "8/8 [==============================] - 2s 190ms/step - loss: 0.6760 - acc: 0.7344\n",
            "8/8 [==============================] - 7s 904ms/step - loss: 0.7570 - acc: 0.8331 - val_loss: 0.6760 - val_acc: 0.7344\n",
            "Epoch 8/15\n",
            "7/8 [=========================>....] - ETA: 0s - loss: 0.2627 - acc: 0.8988Epoch 1/15\n",
            "8/8 [==============================] - 1s 185ms/step - loss: 1.1579 - acc: 0.7930\n",
            "8/8 [==============================] - 7s 890ms/step - loss: 0.2452 - acc: 0.9032 - val_loss: 1.1579 - val_acc: 0.7930\n",
            "Epoch 9/15\n",
            "6/8 [=====================>........] - ETA: 1s - loss: 0.1315 - acc: 0.9440Epoch 1/15\n",
            "8/8 [==============================] - 1s 185ms/step - loss: 1.6017 - acc: 0.7891\n",
            "8/8 [==============================] - 7s 890ms/step - loss: 0.1068 - acc: 0.9499 - val_loss: 1.6017 - val_acc: 0.7891\n",
            "Epoch 10/15\n",
            "7/8 [=========================>....] - ETA: 0s - loss: 0.1098 - acc: 0.9507Epoch 1/15\n",
            "8/8 [==============================] - 1s 166ms/step - loss: 1.9545 - acc: 0.7656\n",
            "8/8 [==============================] - 7s 879ms/step - loss: 0.1097 - acc: 0.9533 - val_loss: 1.9545 - val_acc: 0.7656\n",
            "Epoch 11/15\n",
            "7/8 [=========================>....] - ETA: 0s - loss: 0.0366 - acc: 0.9888Epoch 1/15\n",
            "8/8 [==============================] - 2s 199ms/step - loss: 1.0377 - acc: 0.8633\n",
            "8/8 [==============================] - 8s 962ms/step - loss: 0.0325 - acc: 0.9889 - val_loss: 1.0377 - val_acc: 0.8633\n",
            "Epoch 12/15\n",
            "7/8 [=========================>....] - ETA: 0s - loss: 0.1551 - acc: 0.9464Epoch 1/15\n",
            "8/8 [==============================] - 2s 196ms/step - loss: 1.8278 - acc: 0.7578\n",
            "8/8 [==============================] - 7s 910ms/step - loss: 0.1382 - acc: 0.9466 - val_loss: 1.8278 - val_acc: 0.7578\n",
            "Epoch 13/15\n",
            "7/8 [=========================>....] - ETA: 0s - loss: 0.1026 - acc: 0.9621Epoch 1/15\n",
            "8/8 [==============================] - 2s 194ms/step - loss: 1.2840 - acc: 0.8594\n",
            "8/8 [==============================] - 8s 1s/step - loss: 0.0927 - acc: 0.9668 - val_loss: 1.2840 - val_acc: 0.8594\n",
            "Epoch 14/15\n",
            "7/8 [=========================>....] - ETA: 0s - loss: 2.2556 - acc: 0.8901Epoch 1/15\n",
            "8/8 [==============================] - 2s 198ms/step - loss: 1.2091 - acc: 0.6992\n",
            "8/8 [==============================] - 6s 808ms/step - loss: 2.0610 - acc: 0.9044 - val_loss: 1.2091 - val_acc: 0.6992\n",
            "Epoch 15/15\n",
            "7/8 [=========================>....] - ETA: 0s - loss: 0.0451 - acc: 0.9967Epoch 1/15\n",
            "8/8 [==============================] - 2s 194ms/step - loss: 1.5159 - acc: 0.7812\n",
            "8/8 [==============================] - 7s 898ms/step - loss: 0.0402 - acc: 0.9967 - val_loss: 1.5159 - val_acc: 0.7812\n"
          ],
          "name": "stdout"
        },
        {
          "output_type": "execute_result",
          "data": {
            "text/plain": [
              "<tensorflow.python.keras.callbacks.History at 0x7f5f2838c0b8>"
            ]
          },
          "metadata": {
            "tags": []
          },
          "execution_count": 9
        }
      ]
    },
    {
      "cell_type": "code",
      "metadata": {
        "id": "fPqly5nZA1tD",
        "colab_type": "code",
        "colab": {}
      },
      "source": [
        ""
      ],
      "execution_count": 0,
      "outputs": []
    }
  ]
}