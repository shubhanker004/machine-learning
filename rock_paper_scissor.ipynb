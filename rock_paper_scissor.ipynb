{
  "nbformat": 4,
  "nbformat_minor": 0,
  "metadata": {
    "colab": {
      "name": "rock_paper_scissor.ipynb",
      "provenance": []
    },
    "kernelspec": {
      "name": "python3",
      "display_name": "Python 3"
    },
    "accelerator": "GPU"
  },
  "cells": [
    {
      "cell_type": "markdown",
      "metadata": {
        "id": "SlK35Lo0mTcV",
        "colab_type": "text"
      },
      "source": [
        "# Rock Paper Scissor\n",
        "\n",
        "Differentiating different gestures of hand namely rock, paper, scissor using a dataset of about 3000 computer generated images by Laurence Moroney."
      ]
    },
    {
      "cell_type": "markdown",
      "metadata": {
        "id": "o-6qsHdamwm6",
        "colab_type": "text"
      },
      "source": [
        "# Downloading Images"
      ]
    },
    {
      "cell_type": "code",
      "metadata": {
        "id": "nOhrI0fdkate",
        "colab_type": "code",
        "colab": {
          "base_uri": "https://localhost:8080/",
          "height": 391
        },
        "outputId": "6a0fe2e6-c156-48f1-d349-229ae9c9c026"
      },
      "source": [
        "!wget --no-check-certificate \\\n",
        "    https://storage.googleapis.com/laurencemoroney-blog.appspot.com/rps.zip \\\n",
        "    -O /tmp/rps.zip\n",
        "  \n",
        "!wget --no-check-certificate \\\n",
        "    https://storage.googleapis.com/laurencemoroney-blog.appspot.com/rps-test-set.zip \\\n",
        "    -O /tmp/rps-test-set.zip"
      ],
      "execution_count": 1,
      "outputs": [
        {
          "output_type": "stream",
          "text": [
            "--2019-11-10 23:21:45--  https://storage.googleapis.com/laurencemoroney-blog.appspot.com/rps.zip\n",
            "Resolving storage.googleapis.com (storage.googleapis.com)... 74.125.195.128, 2607:f8b0:400e:c09::80\n",
            "Connecting to storage.googleapis.com (storage.googleapis.com)|74.125.195.128|:443... connected.\n",
            "HTTP request sent, awaiting response... 200 OK\n",
            "Length: 200682221 (191M) [application/zip]\n",
            "Saving to: ‘/tmp/rps.zip’\n",
            "\n",
            "/tmp/rps.zip        100%[===================>] 191.38M   115MB/s    in 1.7s    \n",
            "\n",
            "2019-11-10 23:21:47 (115 MB/s) - ‘/tmp/rps.zip’ saved [200682221/200682221]\n",
            "\n",
            "--2019-11-10 23:21:47--  https://storage.googleapis.com/laurencemoroney-blog.appspot.com/rps-test-set.zip\n",
            "Resolving storage.googleapis.com (storage.googleapis.com)... 74.125.20.128, 2607:f8b0:400e:c02::80\n",
            "Connecting to storage.googleapis.com (storage.googleapis.com)|74.125.20.128|:443... connected.\n",
            "HTTP request sent, awaiting response... 200 OK\n",
            "Length: 29516758 (28M) [application/zip]\n",
            "Saving to: ‘/tmp/rps-test-set.zip’\n",
            "\n",
            "/tmp/rps-test-set.z 100%[===================>]  28.15M   101MB/s    in 0.3s    \n",
            "\n",
            "2019-11-10 23:21:48 (101 MB/s) - ‘/tmp/rps-test-set.zip’ saved [29516758/29516758]\n",
            "\n"
          ],
          "name": "stdout"
        }
      ]
    },
    {
      "cell_type": "markdown",
      "metadata": {
        "id": "avG--Uu6m2VP",
        "colab_type": "text"
      },
      "source": [
        "# Extracting the images"
      ]
    },
    {
      "cell_type": "code",
      "metadata": {
        "id": "tfA0-3J9kn_C",
        "colab_type": "code",
        "colab": {}
      },
      "source": [
        "import os\n",
        "import zipfile\n",
        "\n",
        "local_zip = '/tmp/rps.zip'\n",
        "zip_ref = zipfile.ZipFile(local_zip, 'r')\n",
        "zip_ref.extractall('/tmp/')\n",
        "zip_ref.close()\n",
        "\n",
        "local_zip = '/tmp/rps-test-set.zip'\n",
        "zip_ref = zipfile.ZipFile(local_zip, 'r')\n",
        "zip_ref.extractall('/tmp/')\n",
        "zip_ref.close()"
      ],
      "execution_count": 0,
      "outputs": []
    },
    {
      "cell_type": "markdown",
      "metadata": {
        "id": "QFNktdW4m8_M",
        "colab_type": "text"
      },
      "source": [
        "# Defining the different directories"
      ]
    },
    {
      "cell_type": "code",
      "metadata": {
        "id": "MZq0yLbMkr7w",
        "colab_type": "code",
        "colab": {
          "base_uri": "https://localhost:8080/",
          "height": 68
        },
        "outputId": "300c6400-40d9-4229-cf28-051286d6c744"
      },
      "source": [
        "rock_dir = os.path.join('/tmp/rps/rock')\n",
        "paper_dir = os.path.join('/tmp/rps/paper')\n",
        "scissors_dir = os.path.join('/tmp/rps/scissors')\n",
        "\n",
        "print('total training rock images:', len(os.listdir(rock_dir)))\n",
        "print('total training paper images:', len(os.listdir(paper_dir)))\n",
        "print('total training scissors images:', len(os.listdir(scissors_dir)))"
      ],
      "execution_count": 3,
      "outputs": [
        {
          "output_type": "stream",
          "text": [
            "total training rock images: 840\n",
            "total training paper images: 840\n",
            "total training scissors images: 840\n"
          ],
          "name": "stdout"
        }
      ]
    },
    {
      "cell_type": "markdown",
      "metadata": {
        "id": "5BueViUGnCXA",
        "colab_type": "text"
      },
      "source": [
        "# Defining and Training our Model\n",
        "\n",
        "A CNN model that uses data augmentation and dropout to get a good efficiency and prevent overfitting."
      ]
    },
    {
      "cell_type": "code",
      "metadata": {
        "id": "_cGIYwR4kwDM",
        "colab_type": "code",
        "colab": {
          "base_uri": "https://localhost:8080/",
          "height": 1000
        },
        "outputId": "fda3e0b6-d1d0-4d7c-cb92-9dc8d1aad302"
      },
      "source": [
        "import tensorflow as tf\n",
        "import keras_preprocessing\n",
        "from keras_preprocessing import image\n",
        "from keras_preprocessing.image import ImageDataGenerator\n",
        "\n",
        "TRAINING_DIR = \"/tmp/rps/\"\n",
        "training_datagen = ImageDataGenerator(\n",
        "      rescale = 1./255,\n",
        "\t  rotation_range=40,\n",
        "      width_shift_range=0.2,\n",
        "      height_shift_range=0.2,\n",
        "      shear_range=0.2,\n",
        "      zoom_range=0.2,\n",
        "      horizontal_flip=True,\n",
        "      fill_mode='nearest')\n",
        "\n",
        "VALIDATION_DIR = \"/tmp/rps-test-set/\"\n",
        "validation_datagen = ImageDataGenerator(rescale = 1./255)\n",
        "\n",
        "train_generator = training_datagen.flow_from_directory(\n",
        "\tTRAINING_DIR,\n",
        "\ttarget_size=(150,150),\n",
        "\tclass_mode='categorical'\n",
        ")\n",
        "\n",
        "validation_generator = validation_datagen.flow_from_directory(\n",
        "\tVALIDATION_DIR,\n",
        "\ttarget_size=(150,150),\n",
        "\tclass_mode='categorical'\n",
        ")\n",
        "\n",
        "model = tf.keras.models.Sequential([\n",
        "    tf.keras.layers.Conv2D(64, (3,3), activation='relu', input_shape=(150, 150, 3)),\n",
        "    tf.keras.layers.MaxPooling2D(2, 2),\n",
        "    tf.keras.layers.Conv2D(64, (3,3), activation='relu'),\n",
        "    tf.keras.layers.MaxPooling2D(2,2),\n",
        "    tf.keras.layers.Conv2D(128, (3,3), activation='relu'),\n",
        "    tf.keras.layers.MaxPooling2D(2,2),\n",
        "    tf.keras.layers.Conv2D(128, (3,3), activation='relu'),\n",
        "    tf.keras.layers.MaxPooling2D(2,2),\n",
        "    tf.keras.layers.Flatten(),\n",
        "    tf.keras.layers.Dropout(0.5),\n",
        "    tf.keras.layers.Dense(512, activation='relu'),\n",
        "    tf.keras.layers.Dense(3, activation='softmax')\n",
        "])\n",
        "\n",
        "model.compile(loss = 'categorical_crossentropy', optimizer='rmsprop', metrics=['accuracy'])\n",
        "\n",
        "history = model.fit_generator(train_generator, epochs=25, validation_data = validation_generator, verbose = 1)"
      ],
      "execution_count": 4,
      "outputs": [
        {
          "output_type": "display_data",
          "data": {
            "text/html": [
              "<p style=\"color: red;\">\n",
              "The default version of TensorFlow in Colab will soon switch to TensorFlow 2.x.<br>\n",
              "We recommend you <a href=\"https://www.tensorflow.org/guide/migrate\" target=\"_blank\">upgrade</a> now \n",
              "or ensure your notebook will continue to use TensorFlow 1.x via the <code>%tensorflow_version 1.x</code> magic:\n",
              "<a href=\"https://colab.research.google.com/notebooks/tensorflow_version.ipynb\" target=\"_blank\">more info</a>.</p>\n"
            ],
            "text/plain": [
              "<IPython.core.display.HTML object>"
            ]
          },
          "metadata": {
            "tags": []
          }
        },
        {
          "output_type": "stream",
          "text": [
            "Found 2520 images belonging to 3 classes.\n",
            "Found 372 images belonging to 3 classes.\n",
            "WARNING:tensorflow:From /usr/local/lib/python3.6/dist-packages/tensorflow_core/python/ops/resource_variable_ops.py:1630: calling BaseResourceVariable.__init__ (from tensorflow.python.ops.resource_variable_ops) with constraint is deprecated and will be removed in a future version.\n",
            "Instructions for updating:\n",
            "If using Keras pass *_constraint arguments to layers.\n",
            "Epoch 1/25\n",
            "78/79 [============================>.] - ETA: 0s - loss: 1.2087 - acc: 0.3850Epoch 1/25\n",
            "79/79 [==============================] - 20s 257ms/step - loss: 1.2129 - acc: 0.3869 - val_loss: 1.0371 - val_acc: 0.4677\n",
            "Epoch 2/25\n",
            "78/79 [============================>.] - ETA: 0s - loss: 0.8757 - acc: 0.5780Epoch 1/25\n",
            "79/79 [==============================] - 18s 225ms/step - loss: 0.8712 - acc: 0.5802 - val_loss: 0.3665 - val_acc: 0.8414\n",
            "Epoch 3/25\n",
            "78/79 [============================>.] - ETA: 0s - loss: 0.5857 - acc: 0.7492Epoch 1/25\n",
            "79/79 [==============================] - 18s 224ms/step - loss: 0.5859 - acc: 0.7496 - val_loss: 0.4723 - val_acc: 0.6586\n",
            "Epoch 4/25\n",
            "78/79 [============================>.] - ETA: 0s - loss: 0.3873 - acc: 0.8489Epoch 1/25\n",
            "79/79 [==============================] - 18s 225ms/step - loss: 0.3896 - acc: 0.8480 - val_loss: 0.0762 - val_acc: 0.9919\n",
            "Epoch 5/25\n",
            "78/79 [============================>.] - ETA: 0s - loss: 0.2821 - acc: 0.8935Epoch 1/25\n",
            "79/79 [==============================] - 17s 221ms/step - loss: 0.2819 - acc: 0.8937 - val_loss: 0.5734 - val_acc: 0.7554\n",
            "Epoch 6/25\n",
            "78/79 [============================>.] - ETA: 0s - loss: 0.2861 - acc: 0.9072Epoch 1/25\n",
            "79/79 [==============================] - 18s 225ms/step - loss: 0.2868 - acc: 0.9063 - val_loss: 0.0621 - val_acc: 1.0000\n",
            "Epoch 7/25\n",
            "78/79 [============================>.] - ETA: 0s - loss: 0.1786 - acc: 0.9365Epoch 1/25\n",
            "79/79 [==============================] - 18s 222ms/step - loss: 0.1775 - acc: 0.9369 - val_loss: 0.0401 - val_acc: 0.9892\n",
            "Epoch 8/25\n",
            "78/79 [============================>.] - ETA: 0s - loss: 0.1802 - acc: 0.9349Epoch 1/25\n",
            "79/79 [==============================] - 18s 226ms/step - loss: 0.1788 - acc: 0.9353 - val_loss: 0.0364 - val_acc: 0.9892\n",
            "Epoch 9/25\n",
            "78/79 [============================>.] - ETA: 0s - loss: 0.1734 - acc: 0.9389Epoch 1/25\n",
            "79/79 [==============================] - 18s 225ms/step - loss: 0.1717 - acc: 0.9397 - val_loss: 0.0261 - val_acc: 0.9919\n",
            "Epoch 10/25\n",
            "78/79 [============================>.] - ETA: 0s - loss: 0.1341 - acc: 0.9522Epoch 1/25\n",
            "79/79 [==============================] - 18s 224ms/step - loss: 0.1333 - acc: 0.9524 - val_loss: 0.0182 - val_acc: 0.9919\n",
            "Epoch 11/25\n",
            "78/79 [============================>.] - ETA: 0s - loss: 0.1188 - acc: 0.9622Epoch 1/25\n",
            "79/79 [==============================] - 18s 226ms/step - loss: 0.1210 - acc: 0.9615 - val_loss: 0.1455 - val_acc: 0.9462\n",
            "Epoch 12/25\n",
            "78/79 [============================>.] - ETA: 0s - loss: 0.1476 - acc: 0.9554Epoch 1/25\n",
            "79/79 [==============================] - 18s 224ms/step - loss: 0.1469 - acc: 0.9556 - val_loss: 0.1485 - val_acc: 0.9570\n",
            "Epoch 13/25\n",
            "78/79 [============================>.] - ETA: 0s - loss: 0.1320 - acc: 0.9586Epoch 1/25\n",
            "79/79 [==============================] - 18s 227ms/step - loss: 0.1306 - acc: 0.9591 - val_loss: 0.0273 - val_acc: 1.0000\n",
            "Epoch 14/25\n",
            "78/79 [============================>.] - ETA: 0s - loss: 0.1158 - acc: 0.9606Epoch 1/25\n",
            "79/79 [==============================] - 18s 224ms/step - loss: 0.1150 - acc: 0.9611 - val_loss: 0.0372 - val_acc: 0.9919\n",
            "Epoch 15/25\n",
            "78/79 [============================>.] - ETA: 0s - loss: 0.1072 - acc: 0.9638Epoch 1/25\n",
            "79/79 [==============================] - 18s 224ms/step - loss: 0.1061 - acc: 0.9643 - val_loss: 0.0145 - val_acc: 0.9946\n",
            "Epoch 16/25\n",
            "78/79 [============================>.] - ETA: 0s - loss: 0.0872 - acc: 0.9691Epoch 1/25\n",
            "79/79 [==============================] - 18s 223ms/step - loss: 0.0863 - acc: 0.9694 - val_loss: 0.0462 - val_acc: 0.9866\n",
            "Epoch 17/25\n",
            "78/79 [============================>.] - ETA: 0s - loss: 0.0866 - acc: 0.9719Epoch 1/25\n",
            "79/79 [==============================] - 18s 228ms/step - loss: 0.0875 - acc: 0.9710 - val_loss: 3.6999 - val_acc: 0.6371\n",
            "Epoch 18/25\n",
            "78/79 [============================>.] - ETA: 0s - loss: 0.1080 - acc: 0.9642Epoch 1/25\n",
            "79/79 [==============================] - 18s 223ms/step - loss: 0.1090 - acc: 0.9635 - val_loss: 0.0469 - val_acc: 0.9812\n",
            "Epoch 19/25\n",
            "78/79 [============================>.] - ETA: 0s - loss: 0.0894 - acc: 0.9727Epoch 1/25\n",
            "79/79 [==============================] - 18s 224ms/step - loss: 0.0885 - acc: 0.9730 - val_loss: 0.0534 - val_acc: 0.9677\n",
            "Epoch 20/25\n",
            "78/79 [============================>.] - ETA: 0s - loss: 0.0730 - acc: 0.9759Epoch 1/25\n",
            "79/79 [==============================] - 18s 223ms/step - loss: 0.0722 - acc: 0.9762 - val_loss: 0.0729 - val_acc: 0.9758\n",
            "Epoch 21/25\n",
            "78/79 [============================>.] - ETA: 0s - loss: 0.0924 - acc: 0.9707Epoch 1/25\n",
            "79/79 [==============================] - 18s 223ms/step - loss: 0.0913 - acc: 0.9710 - val_loss: 0.0340 - val_acc: 0.9839\n",
            "Epoch 22/25\n",
            "78/79 [============================>.] - ETA: 0s - loss: 0.0689 - acc: 0.9783Epoch 1/25\n",
            "79/79 [==============================] - 18s 228ms/step - loss: 0.0701 - acc: 0.9778 - val_loss: 0.0374 - val_acc: 0.9731\n",
            "Epoch 23/25\n",
            "78/79 [============================>.] - ETA: 0s - loss: 0.0712 - acc: 0.9751Epoch 1/25\n",
            "79/79 [==============================] - 17s 221ms/step - loss: 0.0734 - acc: 0.9742 - val_loss: 0.3266 - val_acc: 0.8468\n",
            "Epoch 24/25\n",
            "78/79 [============================>.] - ETA: 0s - loss: 0.0832 - acc: 0.9731Epoch 1/25\n",
            "79/79 [==============================] - 18s 225ms/step - loss: 0.0827 - acc: 0.9734 - val_loss: 0.2086 - val_acc: 0.8737\n",
            "Epoch 25/25\n",
            "78/79 [============================>.] - ETA: 0s - loss: 0.0619 - acc: 0.9812Epoch 1/25\n",
            "79/79 [==============================] - 18s 223ms/step - loss: 0.0614 - acc: 0.9813 - val_loss: 0.0406 - val_acc: 0.9704\n"
          ],
          "name": "stdout"
        }
      ]
    },
    {
      "cell_type": "markdown",
      "metadata": {
        "id": "hq6igxvKnxXz",
        "colab_type": "text"
      },
      "source": [
        "# Plotting accuracy curve."
      ]
    },
    {
      "cell_type": "code",
      "metadata": {
        "id": "szvGYO6yk9U3",
        "colab_type": "code",
        "colab": {
          "base_uri": "https://localhost:8080/",
          "height": 298
        },
        "outputId": "6a626ad0-b736-45c1-c9c3-38e50fb7e874"
      },
      "source": [
        "import matplotlib.pyplot as plt\n",
        "acc = history.history['acc']\n",
        "val_acc = history.history['val_acc']\n",
        "loss = history.history['loss']\n",
        "val_loss = history.history['val_loss']\n",
        "\n",
        "epochs = range(len(acc))\n",
        "\n",
        "plt.plot(epochs, acc, 'r', label='Training accuracy')\n",
        "plt.plot(epochs, val_acc, 'b', label='Validation accuracy')\n",
        "plt.title('Training and validation accuracy')\n",
        "plt.legend(loc=0)\n",
        "plt.figure()\n",
        "\n",
        "\n",
        "plt.show()"
      ],
      "execution_count": 5,
      "outputs": [
        {
          "output_type": "display_data",
          "data": {
            "image/png": "[encoded data removed]",
            "text/plain": [
              "<Figure size 432x288 with 1 Axes>"
            ]
          },
          "metadata": {
            "tags": []
          }
        },
        {
          "output_type": "display_data",
          "data": {
            "text/plain": [
              "<Figure size 432x288 with 0 Axes>"
            ]
          },
          "metadata": {
            "tags": []
          }
        }
      ]
    }
  ]
}