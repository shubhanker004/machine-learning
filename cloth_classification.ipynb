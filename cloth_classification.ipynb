{
  "nbformat": 4,
  "nbformat_minor": 0,
  "metadata": {
    "colab": {
      "name": "cloth_classification.ipynb",
      "provenance": [],
      "collapsed_sections": []
    },
    "kernelspec": {
      "name": "python3",
      "display_name": "Python 3"
    },
    "accelerator": "GPU"
  },
  "cells": [
    {
      "cell_type": "markdown",
      "metadata": {
        "id": "KW4usa533dWa",
        "colab_type": "text"
      },
      "source": [
        "# Cloth Classifier\n",
        "\n",
        "MNIST Fashion dataset classifier that trains to almost 93% accuracy or above.\n"
      ]
    },
    {
      "cell_type": "markdown",
      "metadata": {
        "id": "FHCKEMTP7l3E",
        "colab_type": "text"
      },
      "source": [
        "# Libraries\n",
        "Importing all the libraries we would need."
      ]
    },
    {
      "cell_type": "code",
      "metadata": {
        "id": "BLDT4Yly7ohy",
        "colab_type": "code",
        "colab": {}
      },
      "source": [
        "import tensorflow as tf\n",
        "import numpy as np\n",
        "from tensorflow import keras"
      ],
      "execution_count": 0,
      "outputs": []
    },
    {
      "cell_type": "markdown",
      "metadata": {
        "id": "lWhLKdww7wks",
        "colab_type": "text"
      },
      "source": [
        "# Our Neural Network"
      ]
    },
    {
      "cell_type": "code",
      "metadata": {
        "id": "pPB5DqsY76n6",
        "colab_type": "code",
        "colab": {}
      },
      "source": [
        "mnist = tf.keras.datasets.fashion_mnist\n",
        "(training_images, training_labels), (test_images, test_labels) = mnist.load_data()\n",
        "training_images=training_images.reshape(60000, 28, 28, 1)\n",
        "training_images=training_images / 255.0\n",
        "test_images = test_images.reshape(10000, 28, 28, 1)\n",
        "test_images=test_images/255.0\n",
        "model = tf.keras.models.Sequential([\n",
        "  tf.keras.layers.Conv2D(64, (3,3), activation='relu', input_shape=(28, 28, 1)),\n",
        "  tf.keras.layers.MaxPooling2D(2, 2),\n",
        "  tf.keras.layers.Conv2D(64, (3,3), activation='relu'),\n",
        "  tf.keras.layers.MaxPooling2D(2,2),\n",
        "  tf.keras.layers.Flatten(),\n",
        "  tf.keras.layers.Dense(128, activation='relu'),\n",
        "  tf.keras.layers.Dense(10, activation='softmax')\n",
        "])\n",
        "model.compile(optimizer='adam', loss='sparse_categorical_crossentropy', metrics=['accuracy'])"
      ],
      "execution_count": 0,
      "outputs": []
    },
    {
      "cell_type": "markdown",
      "metadata": {
        "id": "6y_oUS0BUqiS",
        "colab_type": "text"
      },
      "source": [
        "# Model Summary\n",
        "\n",
        "It prints out the different transition steps our model has gone through."
      ]
    },
    {
      "cell_type": "code",
      "metadata": {
        "id": "STYTXg0WTn0g",
        "colab_type": "code",
        "colab": {
          "base_uri": "https://localhost:8080/",
          "height": 391
        },
        "outputId": "d33cee5f-93fb-42f4-e5fe-c173172cf511"
      },
      "source": [
        "model.summary()"
      ],
      "execution_count": 3,
      "outputs": [
        {
          "output_type": "stream",
          "text": [
            "Model: \"sequential\"\n",
            "_________________________________________________________________\n",
            "Layer (type)                 Output Shape              Param #   \n",
            "=================================================================\n",
            "conv2d (Conv2D)              (None, 26, 26, 64)        640       \n",
            "_________________________________________________________________\n",
            "max_pooling2d (MaxPooling2D) (None, 13, 13, 64)        0         \n",
            "_________________________________________________________________\n",
            "conv2d_1 (Conv2D)            (None, 11, 11, 64)        36928     \n",
            "_________________________________________________________________\n",
            "max_pooling2d_1 (MaxPooling2 (None, 5, 5, 64)          0         \n",
            "_________________________________________________________________\n",
            "flatten (Flatten)            (None, 1600)              0         \n",
            "_________________________________________________________________\n",
            "dense (Dense)                (None, 128)               204928    \n",
            "_________________________________________________________________\n",
            "dense_1 (Dense)              (None, 10)                1290      \n",
            "=================================================================\n",
            "Total params: 243,786\n",
            "Trainable params: 243,786\n",
            "Non-trainable params: 0\n",
            "_________________________________________________________________\n"
          ],
          "name": "stdout"
        }
      ]
    },
    {
      "cell_type": "markdown",
      "metadata": {
        "id": "dIw1sUqQU-z2",
        "colab_type": "text"
      },
      "source": [
        "# Training\n",
        "\n"
      ]
    },
    {
      "cell_type": "code",
      "metadata": {
        "id": "4g72GUsdTtFi",
        "colab_type": "code",
        "colab": {
          "base_uri": "https://localhost:8080/",
          "height": 731
        },
        "outputId": "a63e0844-665b-4ae4-a99b-c8f7bf82a295"
      },
      "source": [
        "model.fit(training_images, training_labels, epochs=20)"
      ],
      "execution_count": 8,
      "outputs": [
        {
          "output_type": "stream",
          "text": [
            "Train on 60000 samples\n",
            "Epoch 1/20\n",
            "60000/60000 [==============================] - 13s 213us/sample - loss: 0.4357 - acc: 0.8417\n",
            "Epoch 2/20\n",
            "60000/60000 [==============================] - 13s 221us/sample - loss: 0.2916 - acc: 0.8935\n",
            "Epoch 3/20\n",
            "60000/60000 [==============================] - 13s 216us/sample - loss: 0.2484 - acc: 0.9077\n",
            "Epoch 4/20\n",
            "60000/60000 [==============================] - 13s 215us/sample - loss: 0.2164 - acc: 0.9199\n",
            "Epoch 5/20\n",
            "60000/60000 [==============================] - 13s 210us/sample - loss: 0.1914 - acc: 0.9299\n",
            "Epoch 6/20\n",
            "60000/60000 [==============================] - 13s 214us/sample - loss: 0.1681 - acc: 0.9372\n",
            "Epoch 7/20\n",
            "60000/60000 [==============================] - 13s 211us/sample - loss: 0.1464 - acc: 0.9450\n",
            "Epoch 8/20\n",
            "60000/60000 [==============================] - 13s 210us/sample - loss: 0.1306 - acc: 0.9501\n",
            "Epoch 9/20\n",
            "60000/60000 [==============================] - 13s 210us/sample - loss: 0.1144 - acc: 0.9567\n",
            "Epoch 10/20\n",
            "60000/60000 [==============================] - 13s 213us/sample - loss: 0.1012 - acc: 0.9615\n",
            "Epoch 11/20\n",
            "60000/60000 [==============================] - 13s 214us/sample - loss: 0.0874 - acc: 0.9673\n",
            "Epoch 12/20\n",
            "60000/60000 [==============================] - 13s 211us/sample - loss: 0.0787 - acc: 0.9699\n",
            "Epoch 13/20\n",
            "60000/60000 [==============================] - 13s 209us/sample - loss: 0.0683 - acc: 0.9747\n",
            "Epoch 14/20\n",
            "60000/60000 [==============================] - 13s 212us/sample - loss: 0.0617 - acc: 0.9771\n",
            "Epoch 15/20\n",
            "60000/60000 [==============================] - 13s 214us/sample - loss: 0.0565 - acc: 0.9786\n",
            "Epoch 16/20\n",
            "60000/60000 [==============================] - 13s 212us/sample - loss: 0.0516 - acc: 0.9807\n",
            "Epoch 17/20\n",
            "60000/60000 [==============================] - 13s 211us/sample - loss: 0.0438 - acc: 0.9840\n",
            "Epoch 18/20\n",
            "60000/60000 [==============================] - 13s 217us/sample - loss: 0.0435 - acc: 0.9840\n",
            "Epoch 19/20\n",
            "60000/60000 [==============================] - 13s 216us/sample - loss: 0.0377 - acc: 0.9856\n",
            "Epoch 20/20\n",
            "60000/60000 [==============================] - 13s 213us/sample - loss: 0.0374 - acc: 0.9865\n"
          ],
          "name": "stdout"
        },
        {
          "output_type": "execute_result",
          "data": {
            "text/plain": [
              "<tensorflow.python.keras.callbacks.History at 0x7fb410277dd8>"
            ]
          },
          "metadata": {
            "tags": []
          },
          "execution_count": 8
        }
      ]
    },
    {
      "cell_type": "markdown",
      "metadata": {
        "id": "4uPq4PFFVGkH",
        "colab_type": "text"
      },
      "source": [
        "# Testing"
      ]
    },
    {
      "cell_type": "code",
      "metadata": {
        "id": "WexgINT3TGH8",
        "colab_type": "code",
        "colab": {
          "base_uri": "https://localhost:8080/",
          "height": 34
        },
        "outputId": "25d5e4b6-dba8-4127-c218-53ac3dae95ec"
      },
      "source": [
        "test_loss = model.evaluate(test_images, test_labels)"
      ],
      "execution_count": 9,
      "outputs": [
        {
          "output_type": "stream",
          "text": [
            "10000/10000 [==============================] - 1s 113us/sample - loss: 0.4861 - acc: 0.9112\n"
          ],
          "name": "stdout"
        }
      ]
    },
    {
      "cell_type": "code",
      "metadata": {
        "id": "pWRL28y1UlVY",
        "colab_type": "code",
        "colab": {}
      },
      "source": [
        ""
      ],
      "execution_count": 0,
      "outputs": []
    }
  ]
}